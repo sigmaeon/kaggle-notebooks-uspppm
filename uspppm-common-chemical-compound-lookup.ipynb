# %% [markdown]
# # USSPM Common Chemical Compond Lookup Table Utils
# Utility script to lookup synonyms of common chemical compounds as extracted fom the following Wikipedia entries:
# - https://en.wikipedia.org/wiki/Glossary_of_chemical_formulae
# - https://en.wikipedia.org/wiki/List_of_CAS_numbers_by_chemical_compound
# 
# 
# From prediction analysis we found that most models we trained had difficulties in predictng the score for phrase containing chemical formulae. We hence introduce a lookup table to find synonyms for common chemical compounds based on their formulae. 
# 
# Since phrases in the USPPPM training are lower-cased, chemical formulas might be abigous and are hard to determine directly. Furthermore, chemical formulas might spell actual words. For example the string `base` can be interpreded as a word (e.g. as in *military base*) or as the chemical compound *barium selenide*. 
# Since replacing the actual word with the name of a chemical compound would likely produce wrong samples, we need a strategy for which strings to replace when they match a certain formula. Here we use three heuristics:
# 1. A manually curated blacklist of phrases to not replace
# 2. A pattern based whiteiist where we replace all strings that contain numbers
# 3. A final blacklist using a lookup into the wordnet database. If we find a synset there, we assume that the string is a commonly used word that most large Language Models can work with properly. 

# %% [markdown]
# ### Libraries and Setup

# %% [code] {"execution":{"iopub.status.busy":"2022-06-26T15:27:08.573998Z","iopub.execute_input":"2022-06-26T15:27:08.575306Z","iopub.status.idle":"2022-06-26T15:27:08.581424Z","shell.execute_reply.started":"2022-06-26T15:27:08.575263Z","shell.execute_reply":"2022-06-26T15:27:08.580608Z"}}
import os
from typing import List, Optional
import nltk
from tqdm import tqdm
import itertools
import pandas as pd

CHEM_COMP_PATH = "../input/chemical-compounds-lookup/compounds.csv"
# Manually currated blacklist of words not to replace
DEFAULT_BLACKLIST = ['fi']

def setup_nltk():
    nltk.data.path.append('../input/wordnet')
    # nltk.download('wordnet', download_dir='./nltk_data')

setup_nltk()
from nltk.corpus import wordnet

class USPPPMChemCompLookup:
    def __init__(self, blacklist: List[str] = DEFAULT_BLACKLIST, chem_comp_path: str = CHEM_COMP_PATH):
        self.lookup_df = pd.read_csv(chem_comp_path)
        self.blacklist = blacklist
        
    
    # ### Phrase replacement
    def _formula_viable_for_augmentation(self, formula: str) -> bool:
        '''
          Checks wether a given string is viable for being replaced by a chemical synonym
          @formula: A string representing a formula of a chemical compound
          @retrun: `True` if `formula` is viable for replacement with the name(s) of the chemical compound
        '''
        if formula in self.blacklist:
            return False

         # Whitelist-Pattern: If there's any digit in the string, we assume it to be a chemical formula
        if any(i.isdigit() for i in formula):
            return True

        # If we find a synset for the string, we assume it is a regular word and will not replace it
        if len(wordnet.synsets(formula)) > 0:
            return False

        return True

    def chem_formula_synonyms(self, formula: str) -> Optional[List[str]]:
        '''
          Finds the synonyms of a chemical formulae
          @param chem_df The lookup table for synonyms to chemical formulae
          @param formula A string potentially representing a replaceable chemical formulae
          @return A list of synonyms for the chemical compount referenced by the formula in 
            string`formula` or `None` if the string is not a formula referencing a chemical 
            compund viable for replacement. 
        '''
        if self._formula_viable_for_augmentation(formula):
            res = self.lookup_df[self.lookup_df['Formula'] == formula.lower()]
            if len(res) > 0:
                return res['Name'].to_list()

        return None

    def phrase_chem_formula_synonym(self, phrase: str, replace: bool=True):
        '''
          Checks a given phrase for common chemical formulae and 
          returns a list of phrases where common chemical formulae were substituted
          by their synonyms. If no chemical formula is found in the phrase, the original 
          phrase is returned
          @param chem_df the lookup dataframe for common chemical formulae
          @param phrase the phrase to check for chemical formulae
          @replace: if`True` and the phrase will not be part of the returned list in case 
          synoyms have been found
          @return a list of phrases containing synonyms to chemical formulae.
        '''
        # Trigger warning: sloppy implementation - but it works

        # we get a map of list of synonyms to words in the phrase 
        syn_map = {w: self.chem_formula_synonyms(w) for w in phrase.split()}

        # we start with the original phrase and for each word replace it with 
        # the corresponding synonym. If there are multiple synonyms, we introduce 
        # a new phrase to the list
        phrases = [phrase]
        found_sym = False
        for w, syns in syn_map.items():
            if not syns: continue
            found_sym = True

            new_ps = []
            for syn in syns:
                new_ps += [p.replace(w, syn) for p in phrases]

            phrases = new_ps

        # if we don't find any replaceable chemical forumlae in the phrase we return the original phrase
        if not found_sym:
            return phrase
        else:
            return phrases if replace else (phrases + [phrase])

    # %% [markdown]
    # ### USPPPM Dataset Augmentation
    # Utility functions to augment a USPPPM datasets with samples generated from replacing common chemical formulae in *anchor* and *target* phrases with their corresponding synonyms.
    # 
    # This can either be used for training by augment the dataset with additional samples to train on and/or at inference time, by averaging predictions of additional augmented samples
    def augment_chem_formulae(self, df: pd.DataFrame, replace:bool=True):
        '''
          Augments the data with synonyms of chemical formulae. 
          If param `replace` is `False` or more then one synonym was found 
          for the formula, additional rows with the same id will be introduced.
          @param df Dataframe with columns `id`, `anchor` and `target`
          @param replace If true will replace the existing phrase
        '''

        # get synonym lists for anchor and target
        syms = pd.DataFrame({'id':df['id']})
        syms['anchor'] = df['anchor'].apply(lambda p: self.phrase_chem_formula_synonym(p, replace))
        syms['target'] = df['target'].apply(lambda p: self.phrase_chem_formula_synonym(p, replace))

        # create all combinations of anchor and target synonyms
        syms = syms.explode('anchor').explode('target')

        return syms


    def average_scores_by_id(self, scores: pd.DataFrame):
        return scores.group_by('id').mean().reset_index()


# **Tests**
if __name__=="__main__":
    chem_lookup = USPPPMChemCompLookup()
    print('Testing basic formula lookup...')
    print(chem_lookup.lookup_df)
    print(chem_lookup.phrase_chem_formula_synonym('agbr test'))
    print(chem_lookup.phrase_chem_formula_synonym('agbr dna test agonc ag2cl2'))
    print(chem_lookup.phrase_chem_formula_synonym('dna test d2o'))
    print(chem_lookup.chem_formula_synonyms('c3h6'))
    print('Done!')
    print()
    print('Testing dataset augmentation...')
    chem_test = pd.DataFrame({'id': pd.Series(['t1', 't2', 't3', 't4']),  
                              'anchor': pd.Series(['agbr dna test agonc ag2cl2', 'agbr test', 'agbr', 'last']),
                              'target': pd.Series(['agonc ag2cl2', 'test thingy', 'c4h7no4', 'last']),
                              'context': pd.Series(['G02', 'G02', 'C12', 'C12'])})
    print("Before")
    print(chem_test)
    print("After")
    print(chem_lookup.augment_chem_formulae(chem_test, True))
    print('Done!')